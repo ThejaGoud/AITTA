{
  "nbformat": 4,
  "nbformat_minor": 0,
  "metadata": {
    "colab": {
      "name": "logisticRegression.ipynb",
      "provenance": [],
      "collapsed_sections": [],
      "authorship_tag": "ABX9TyP9z1lnolOBTdwaJx4MXP4w",
      "include_colab_link": true
    },
    "kernelspec": {
      "name": "python3",
      "display_name": "Python 3"
    }
  },
  "cells": [
    {
      "cell_type": "markdown",
      "metadata": {
        "id": "view-in-github",
        "colab_type": "text"
      },
      "source": [
        "<a href=\"https://colab.research.google.com/github/ThejaGoud/AITTA/blob/main/logisticRegression.ipynb\" target=\"_parent\"><img src=\"https://colab.research.google.com/assets/colab-badge.svg\" alt=\"Open In Colab\"/></a>"
      ]
    },
    {
      "cell_type": "code",
      "metadata": {
        "colab": {
          "base_uri": "https://localhost:8080/",
          "height": 470
        },
        "id": "ZQuahibCrAaO",
        "outputId": "2e9037d8-f806-49ac-b977-279eb8eab1a9"
      },
      "source": [
        "from sklearn.datasets import load_digits\r\n",
        "digits = load_digits()\r\n",
        "\r\n",
        "# Print to show there are 1797 images (8 by 8 images for a dimensionality of 64)\r\n",
        "print(\"Image Data Shape\" , digits.data.shape)\r\n",
        "\r\n",
        "# Print to show there are 1797 labels (integers from 0-9)\r\n",
        "print(\"Label Data Shape\", digits.target.shape)\r\n",
        "\r\n",
        "import numpy as np \r\n",
        "import matplotlib.pyplot as plt\r\n",
        "\r\n",
        "plt.figure(figsize=(20,4))\r\n",
        "for index, (image, label) in enumerate(zip(digits.data[0:5], digits.target[0:5])):\r\n",
        "    plt.subplot(1, 5, index + 1)\r\n",
        "    plt.imshow(np.reshape(image, (8,8)), cmap=plt.cm.gray)\r\n",
        "    plt.title('Training: %i\\n' % label, fontsize = 20)\r\n",
        "    \r\n",
        "from sklearn.model_selection import train_test_split\r\n",
        "x_train, x_test, y_train, y_test = train_test_split(digits.data, digits.target, test_size=0.25, random_state=0)\r\n",
        "\r\n",
        "from sklearn.linear_model import LogisticRegression\r\n",
        "\r\n",
        "logisticRegr = LogisticRegression()\r\n",
        "\r\n",
        "logisticRegr.fit(x_train, y_train)\r\n",
        "\r\n",
        "# Returns a NumPy Array\r\n",
        "# Predict for One Observation (image)\r\n",
        "logisticRegr.predict(x_test[0].reshape(1,-1))\r\n",
        "\r\n",
        "# Predict for Multiple Observations (images) at Once\r\n",
        "logisticRegr.predict(x_test[0:10])\r\n",
        "\r\n",
        "# Make predictions on entire test data\r\n",
        "predictions = logisticRegr.predict(x_test)\r\n",
        "\r\n",
        "# Use score method to get accuracy of model\r\n",
        "score = logisticRegr.score(x_test, y_test)\r\n",
        "print(score)\r\n",
        "\r\n",
        "\r\n",
        "\r\n",
        "\r\n",
        "\r\n",
        "\r\n"
      ],
      "execution_count": 1,
      "outputs": [
        {
          "output_type": "stream",
          "text": [
            "Image Data Shape (1797, 64)\n",
            "Label Data Shape (1797,)\n"
          ],
          "name": "stdout"
        },
        {
          "output_type": "stream",
          "text": [
            "/usr/local/lib/python3.7/dist-packages/sklearn/linear_model/_logistic.py:940: ConvergenceWarning: lbfgs failed to converge (status=1):\n",
            "STOP: TOTAL NO. of ITERATIONS REACHED LIMIT.\n",
            "\n",
            "Increase the number of iterations (max_iter) or scale the data as shown in:\n",
            "    https://scikit-learn.org/stable/modules/preprocessing.html\n",
            "Please also refer to the documentation for alternative solver options:\n",
            "    https://scikit-learn.org/stable/modules/linear_model.html#logistic-regression\n",
            "  extra_warning_msg=_LOGISTIC_SOLVER_CONVERGENCE_MSG)\n"
          ],
          "name": "stderr"
        },
        {
          "output_type": "stream",
          "text": [
            "0.9511111111111111\n"
          ],
          "name": "stdout"
        },
        {
          "output_type": "display_data",
          "data": {
            "image/png": "[encoded data removed]",
            "text/plain": [
              "<Figure size 1440x288 with 5 Axes>"
            ]
          },
          "metadata": {
            "tags": [],
            "needs_background": "light"
          }
        }
      ]
    }
  ]
}